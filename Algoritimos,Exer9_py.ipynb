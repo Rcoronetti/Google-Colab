{
  "nbformat": 4,
  "nbformat_minor": 0,
  "metadata": {
    "colab": {
      "name": "Algoritimos,Exer9.py ",
      "provenance": [],
      "collapsed_sections": [],
      "authorship_tag": "ABX9TyMIvSY7RDYfMkvEPnG5rgLH",
      "include_colab_link": true
    },
    "kernelspec": {
      "name": "python3",
      "display_name": "Python 3"
    },
    "language_info": {
      "name": "python"
    }
  },
  "cells": [
    {
      "cell_type": "markdown",
      "metadata": {
        "id": "view-in-github",
        "colab_type": "text"
      },
      "source": [
        "<a href=\"https://colab.research.google.com/github/Rcoronetti/Google-Colab/blob/main/Algoritimos%2CExer9_py.ipynb\" target=\"_parent\"><img src=\"https://colab.research.google.com/assets/colab-badge.svg\" alt=\"Open In Colab\"/></a>"
      ]
    },
    {
      "cell_type": "markdown",
      "source": [
        ". Faça uma função que recebe, por parâmetro, um valor inteiro e positivo e retorna se ele é par.\n",
        "\n"
      ],
      "metadata": {
        "id": "g3H3AMmpK7-q"
      }
    },
    {
      "cell_type": "code",
      "execution_count": 7,
      "metadata": {
        "colab": {
          "base_uri": "https://localhost:8080/"
        },
        "id": "zXR4c7qwK7Fd",
        "outputId": "e5d91424-f484-499d-d6f3-a574fa255f07"
      },
      "outputs": [
        {
          "output_type": "stream",
          "name": "stdout",
          "text": [
            "Entre com um número: 11\n",
            "Eh impar\n"
          ]
        }
      ],
      "source": [
        "numero=int(input(\"Entre com um número: \"))\n",
        "def par(numero):\n",
        "  if numero%2==0:\n",
        "    resposta='S'       \n",
        "  else:\n",
        "     resposta='N'\n",
        "  return resposta\n",
        "\n",
        "resultado=par(numero)\n",
        "if resultado =='S':\n",
        "  print('Eh par')\n",
        "else:\n",
        "  print('Eh impar')  \n",
        "\n",
        "\n",
        "     "
      ]
    },
    {
      "cell_type": "markdown",
      "source": [
        "Faça duas funções, ambas recebem um inteiro, por parâmetro, uma retorna o sucessor deste número e a outra retorna o antecessor."
      ],
      "metadata": {
        "id": "jV3qntB8PnCE"
      }
    },
    {
      "cell_type": "code",
      "source": [
        "def sucessor(numero):\n",
        "  resposta = numero+1\n",
        "  return resposta\n",
        "\n",
        "def antecessor(numero):\n",
        "  resposta2 = numero-1\n",
        "  return resposta2\n",
        "\n",
        "numero = int(input('Informe um número: '))\n",
        "numero1=sucessor(numero)\n",
        "numero2=antecessor (numero)\n",
        "print (f'O número é {numero}\\nO sucessor é {numero1}\\nO antecessor é {numero2}')    "
      ],
      "metadata": {
        "colab": {
          "base_uri": "https://localhost:8080/"
        },
        "id": "Eaov7mn4Ppns",
        "outputId": "b34bfce7-5f90-4179-a7c9-e1de1355209d"
      },
      "execution_count": 11,
      "outputs": [
        {
          "output_type": "stream",
          "name": "stdout",
          "text": [
            "Informe um número: 10\n",
            "O número é 10\n",
            "O sucessor é 11\n",
            "O antecessor é9\n"
          ]
        }
      ]
    },
    {
      "cell_type": "code",
      "source": [
        ""
      ],
      "metadata": {
        "id": "th0HrF6qS9qE"
      },
      "execution_count": null,
      "outputs": []
    },
    {
      "cell_type": "markdown",
      "source": [
        ""
      ],
      "metadata": {
        "id": "K1Ys_Su4RpeE"
      }
    },
    {
      "cell_type": "markdown",
      "source": [
        "Faça uma função que recebe, por parâmetro, um valor inteiro e positivo e retorna quantos divisores tem esse valor."
      ],
      "metadata": {
        "id": "EYoyINV7Rpjk"
      }
    },
    {
      "cell_type": "code",
      "source": [
        "def divisor (numero):  \n",
        "  cont=0\n",
        "  for c in range(1,numero+1):\n",
        "    if numero%c==0:\n",
        "      cont+=1\n",
        "  return cont   \n",
        "\n",
        "numero=int(input('Digite um número maior que 0: '))\n",
        "numero1=divisor(numero)\n",
        "print(numero1)  "
      ],
      "metadata": {
        "colab": {
          "base_uri": "https://localhost:8080/"
        },
        "id": "0exxCaAaRqSM",
        "outputId": "ac109149-7a71-4ecb-cd3c-ee9994845505"
      },
      "execution_count": 15,
      "outputs": [
        {
          "output_type": "stream",
          "name": "stdout",
          "text": [
            "Digite um número maior que 0: 10\n",
            "4\n"
          ]
        }
      ]
    },
    {
      "cell_type": "markdown",
      "source": [
        "Escreva uma função que recebe por parâmetro um valor inteiro e positivo N e retorna o valor double de seu fatorial"
      ],
      "metadata": {
        "id": "7hJV9h_NUFhs"
      }
    },
    {
      "cell_type": "code",
      "source": [
        "def fatorial (numero):\n",
        "  resultado=1\n",
        "  for c in range(1,numero+1):\n",
        "    resultado*=c\n",
        "    \n",
        "\n",
        "  return resultado #Esse return determina qual será o valor da função definida( aqui no caso fatorial). Não sendo necessário\n",
        "  #colocar o resultado em outra variável como fizemos no exemplo anterior, já que aqui só temos 1 return.\n",
        "\n",
        "numero= int(input('Informe um número positivo: '))\n",
        "print(f'{fatorial(numero):f}')    "
      ],
      "metadata": {
        "colab": {
          "base_uri": "https://localhost:8080/"
        },
        "id": "Q5V-51OMUGHM",
        "outputId": "7b8d2818-84d8-4f95-cd16-1ad33291714d"
      },
      "execution_count": 30,
      "outputs": [
        {
          "output_type": "stream",
          "name": "stdout",
          "text": [
            "Informe um número positivo: 4\n",
            "24.000000\n"
          ]
        }
      ]
    }
  ]
}